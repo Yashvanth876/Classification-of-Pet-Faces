{
 "cells": [
  {
   "cell_type": "code",
   "execution_count": null,
   "id": "e0e4fe34",
   "metadata": {},
   "outputs": [],
   "source": [
    "import numpy as np\n",
    "import pandas as pd\n",
    "import matplotlib.pyplot as plt\n",
    "import matplotlib.image as image\n",
    "import glob\n",
    "import os"
   ]
  },
  {
   "cell_type": "code",
   "execution_count": null,
   "id": "3923d99d",
   "metadata": {},
   "outputs": [],
   "source": [
    "images_fp = './Pet_Breeds'"
   ]
  },
  {
   "cell_type": "code",
   "execution_count": null,
   "id": "a6514c74",
   "metadata": {},
   "outputs": [],
   "source": [
    "image_names = [os.path.basename(file) for file in glob.glob(os.path.join(images_fp, '*.jpg'))]"
   ]
  },
  {
   "cell_type": "code",
   "execution_count": null,
   "id": "c75291bf",
   "metadata": {
    "scrolled": true
   },
   "outputs": [],
   "source": [
    "image_names"
   ]
  },
  {
   "cell_type": "code",
   "execution_count": null,
   "id": "dd8ef53e",
   "metadata": {},
   "outputs": [],
   "source": [
    "labels = [' '.join(name.split('_')[:-1:])for name in image_names]"
   ]
  },
  {
   "cell_type": "code",
   "execution_count": null,
   "id": "7663fb4a",
   "metadata": {},
   "outputs": [],
   "source": [
    "labels"
   ]
  },
  {
   "cell_type": "code",
   "execution_count": null,
   "id": "5af81115",
   "metadata": {},
   "outputs": [],
   "source": [
    "def label_encode(label):\n",
    "    if label == \"abyssinian\": return 0\n",
    "    elif label == \"american shorthair\": return 1\n",
    "    elif label == \"beagle\": return 2\n",
    "    elif label == \"boxer\": return 3\n",
    "    elif label == \"bulldog\": return 4\n",
    "    elif label == \"chihuahua\": return 5\n",
    "    elif label == \"corgi\": return 6\n",
    "    elif label == \"dachshund\": return 7\n",
    "    elif label == \"german shepherd\": return 8\n",
    "    elif label == \"golden retriever\": return 9\n",
    "    elif label == \"husky\": return 10\n",
    "    elif label == \"labrador\": return 11\n",
    "    elif label == \"maine coon\": return 12\n",
    "    elif label == \"mumbai cat\": return 13\n",
    "    elif label == \"persian cat\": return 14\n",
    "    elif label == \"pomeranian\": return 15\n",
    "    elif label == \"pug\": return 16\n",
    "    elif label == \"ragdoll cat\": return 17\n",
    "    elif label == \"rottwiler\": return 18\n",
    "    elif label == \"shiba inu\": return 19\n",
    "    elif label == \"siamese cat\": return 20\n",
    "    elif label == \"sphynx\": return 21\n",
    "    elif label == \"yorkshire terrier\": return 22"
   ]
  },
  {
   "cell_type": "code",
   "execution_count": null,
   "id": "ee8f2d8a",
   "metadata": {},
   "outputs": [],
   "source": [
    "import tensorflow as tf\n",
    "from tensorflow.keras.preprocessing.image import load_img, img_to_array"
   ]
  },
  {
   "cell_type": "code",
   "execution_count": null,
   "id": "eca15ab1",
   "metadata": {},
   "outputs": [],
   "source": [
    "features = []\n",
    "labels = []\n",
    "IMAGE_SIZE = (224, 224)\n",
    "\n",
    "for name in image_names:\n",
    "    label = ' '.join(name.split('_')[:-1:])\n",
    "    label_encoded = label_encode(label)\n",
    "    if label_encoded != None:\n",
    "        img = load_img(os.path.join(images_fp, name))\n",
    "        img = tf.image.resize_with_pad(img_to_array(img, dtype = 'uint8'), *IMAGE_SIZE).numpy().astype('uint8')\n",
    "        image = np.array(img)\n",
    "        features.append(image)\n",
    "        labels.append(label_encoded)"
   ]
  },
  {
   "cell_type": "code",
   "execution_count": null,
   "id": "940ebb88",
   "metadata": {},
   "outputs": [],
   "source": [
    "features"
   ]
  },
  {
   "cell_type": "code",
   "execution_count": null,
   "id": "e89ccc3e",
   "metadata": {},
   "outputs": [],
   "source": [
    "labels"
   ]
  },
  {
   "cell_type": "code",
   "execution_count": null,
   "id": "63d2ff42",
   "metadata": {},
   "outputs": [],
   "source": [
    "features_array = np.array(features)\n",
    "labels_array = np.array(labels)"
   ]
  },
  {
   "cell_type": "code",
   "execution_count": null,
   "id": "6d4d8faa",
   "metadata": {},
   "outputs": [],
   "source": [
    "labels_one_hot = pd.get_dummies(labels_array)"
   ]
  },
  {
   "cell_type": "code",
   "execution_count": null,
   "id": "c8c9d388",
   "metadata": {},
   "outputs": [],
   "source": [
    "labels_one_hot"
   ]
  },
  {
   "cell_type": "code",
   "execution_count": null,
   "id": "1900eeec",
   "metadata": {},
   "outputs": [],
   "source": [
    "!pip install -U scikit-learn   "
   ]
  },
  {
   "cell_type": "code",
   "execution_count": null,
   "id": "a84cf248",
   "metadata": {},
   "outputs": [],
   "source": [
    "from sklearn.model_selection import train_test_split"
   ]
  },
  {
   "cell_type": "code",
   "execution_count": null,
   "id": "1520fa3f",
   "metadata": {},
   "outputs": [],
   "source": [
    "# Train - 60% + Val - 20%, Test - 20%\n",
    "X_train, X_test, y_train, y_test = train_test_split(features_array, labels_one_hot, test_size = 0.2, random_state = 42)"
   ]
  },
  {
   "cell_type": "code",
   "execution_count": null,
   "id": "8891273a",
   "metadata": {},
   "outputs": [],
   "source": [
    "X_train, X_val, y_train, y_val = train_test_split(X_train, y_train, test_size = 0.25, random_state = 1)"
   ]
  },
  {
   "cell_type": "code",
   "execution_count": null,
   "id": "024dafd2",
   "metadata": {},
   "outputs": [],
   "source": [
    "from tensorflow.keras import layers, Input, Model\n",
    "from tensorflow.keras.models import Sequential\n",
    "from tensorflow.keras.applications import ResNet50\n",
    "from tensorflow.keras.applications.resnet50 import preprocess_input as pp_i\n",
    "from tensorflow.keras.layers import RandomFlip, RandomRotation, Dense, Dropout\n",
    "from tensorflow.keras.losses import CategoricalCrossentropy\n",
    "from tensorflow.keras.optimizers import Adam\n",
    "from tensorflow.keras.utils import to_categorical"
   ]
  },
  {
   "cell_type": "code",
   "execution_count": null,
   "id": "f0497ff6",
   "metadata": {},
   "outputs": [],
   "source": [
    "data_augumentation = Sequential([RandomFlip(\"horizontal_and_vertical\"), RandomRotation(0.2)])\n",
    "prediction_layers = Dense(23, activation = \"softmax\")"
   ]
  },
  {
   "cell_type": "code",
   "execution_count": null,
   "id": "3f3d5219",
   "metadata": {},
   "outputs": [],
   "source": [
    "resnet_model = ResNet50(include_top = False, pooling = \"avg\", weights = \"imagenet\")\n",
    "resnet_model.trainable = False\n",
    "preprocess_input = pp_i"
   ]
  },
  {
   "cell_type": "code",
   "execution_count": null,
   "id": "9e072f33",
   "metadata": {},
   "outputs": [],
   "source": [
    "# Build model\n",
    "inputs = Input(shape = (224, 224, 3))\n",
    "x = data_augumentation(inputs)\n",
    "x = preprocess_input(x)\n",
    "x = resnet_model(x, training = False)\n",
    "x = Dropout(0.2)(x)\n",
    "outputs = prediction_layers(x)\n",
    "model = Model(inputs, outputs)"
   ]
  },
  {
   "cell_type": "code",
   "execution_count": null,
   "id": "c1a78339",
   "metadata": {},
   "outputs": [],
   "source": [
    "model.compile(optimizer = Adam(), loss = \"categorical_crossentropy\", metrics = [\"accuracy\"])"
   ]
  },
  {
   "cell_type": "code",
   "execution_count": null,
   "id": "1a11e2d3",
   "metadata": {},
   "outputs": [],
   "source": [
    "model_history = model.fit(x = X_train, y = y_train, validation_data = (X_val, y_val), epochs = 10)"
   ]
  },
  {
   "cell_type": "code",
   "execution_count": null,
   "id": "48db0f48",
   "metadata": {},
   "outputs": [],
   "source": [
    "acc = model_history.history[\"accuracy\"]\n",
    "val_acc = model_history.history[\"val_accuracy\"]\n",
    "loss = model_history.history[\"loss\"]\n",
    "val_loss = model_history.history[\"val_loss\"]"
   ]
  },
  {
   "cell_type": "code",
   "execution_count": null,
   "id": "d62386f5",
   "metadata": {},
   "outputs": [],
   "source": [
    "epochs_range = range(10)\n",
    "plt.figure(figsize = (15, 8))\n",
    "\n",
    "plt.subplot(1, 2, 1)\n",
    "plt.plot(epochs_range, acc, label = \"Training accuracy\")\n",
    "plt.plot(epochs_range, val_acc, label = \"Validation accuracy\")\n",
    "plt.legend(loc = \"lower right\")\n",
    "plt.title(\"Training and Validation Accuracy\")\n",
    "\n",
    "plt.subplot(1, 2, 2)\n",
    "plt.plot(epochs_range, loss, label = \"Training loss\")\n",
    "plt.plot(epochs_range, val_loss, label = \"Validation loss\")\n",
    "plt.legend(loc = \"upper right\")\n",
    "plt.title(\"Training and Validation Loss\")"
   ]
  },
  {
   "cell_type": "code",
   "execution_count": null,
   "id": "b87353eb",
   "metadata": {},
   "outputs": [],
   "source": [
    "model.evaluate(X_test, y_test)"
   ]
  },
  {
   "cell_type": "code",
   "execution_count": null,
   "id": "96b87c43",
   "metadata": {},
   "outputs": [],
   "source": [
    "y_pred = model.predict(X_test)"
   ]
  },
  {
   "cell_type": "code",
   "execution_count": null,
   "id": "c22d2a8c",
   "metadata": {},
   "outputs": [],
   "source": [
    "y_pred"
   ]
  },
  {
   "cell_type": "code",
   "execution_count": null,
   "id": "bfbc2601",
   "metadata": {},
   "outputs": [],
   "source": []
  }
 ],
 "metadata": {
  "kernelspec": {
   "display_name": "Python 3 (ipykernel)",
   "language": "python",
   "name": "python3"
  },
  "language_info": {
   "codemirror_mode": {
    "name": "ipython",
    "version": 3
   },
   "file_extension": ".py",
   "mimetype": "text/x-python",
   "name": "python",
   "nbconvert_exporter": "python",
   "pygments_lexer": "ipython3",
   "version": "3.12.3"
  }
 },
 "nbformat": 4,
 "nbformat_minor": 5
}
